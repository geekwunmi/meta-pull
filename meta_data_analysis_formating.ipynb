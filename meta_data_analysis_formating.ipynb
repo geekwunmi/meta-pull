{
 "cells": [
  {
   "cell_type": "code",
   "execution_count": 9,
   "id": "4afdb9ae",
   "metadata": {},
   "outputs": [],
   "source": [
    "import pandas as pd\n",
    "import requests\n",
    "import json\n",
    "import datetime as dt"
   ]
  },
  {
   "cell_type": "code",
   "execution_count": 26,
   "id": "f9ece750",
   "metadata": {},
   "outputs": [],
   "source": [
    "df = !python meta-pull.py"
   ]
  },
  {
   "cell_type": "code",
   "execution_count": 54,
   "id": "56f8e7a6",
   "metadata": {},
   "outputs": [
    {
     "name": "stdout",
     "output_type": "stream",
     "text": [
      "dict_keys([\"{'data': [{'id': '18037580198311360', 'timestamp': '2024-08-12T20:52:08+0000', 'comments': {'data': [{'timestamp': '2024-08-27T20:41:30+0000', 'text': 'Second troll', 'id': '18019382825524242'}, {'timestamp': '2024-08-27T20:40:53+0000', 'text': 'first troll', 'id': '18060789808630326'}]}}], 'paging': {'cursors': {'before': 'QVFIUkh0c2xUTnFUNktpU0NTUGpQR3ZAnRGFKSnZAMRk13Wnk3WFhYeVNhVFJ4ek4tOGxQMmZAoaXhCbGdWalZAvbnB5NmIxN1AyRzJ2TjNTRTgyMThfRVFWam9R', 'after': 'QVFIUkh0c2xUTnFUNktpU0NTUGpQR3ZAnRGFKSnZAMRk13Wnk3WFhYeVNhVFJ4ek4tOGxQMmZAoaXhCbGdWalZAvbnB5NmIxN1AyRzJ2TjNTRTgyMThfRVFWam9R'}}}\"])\n"
     ]
    }
   ],
   "source": [
    "df2 = {}\n",
    "df2 = {df[0]}\n",
    "# print(type(df2))\n",
    "df2 = dict.fromkeys(df2,'data')\n",
    "print(df2.keys())\n",
    "# pd.DataFrame(df2['comments'])\n"
   ]
  },
  {
   "cell_type": "code",
   "execution_count": null,
   "id": "199f8a67",
   "metadata": {},
   "outputs": [],
   "source": []
  }
 ],
 "metadata": {
  "kernelspec": {
   "display_name": "Python 3 (ipykernel)",
   "language": "python",
   "name": "python3"
  },
  "language_info": {
   "codemirror_mode": {
    "name": "ipython",
    "version": 3
   },
   "file_extension": ".py",
   "mimetype": "text/x-python",
   "name": "python",
   "nbconvert_exporter": "python",
   "pygments_lexer": "ipython3",
   "version": "3.9.18"
  }
 },
 "nbformat": 4,
 "nbformat_minor": 5
}
