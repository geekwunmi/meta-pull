{
 "cells": [
  {
   "cell_type": "code",
   "execution_count": 208,
   "id": "4afdb9ae",
   "metadata": {},
   "outputs": [],
   "source": [
    "import pandas as pd\n",
    "import requests\n",
    "import json\n",
    "import datetime as dt\n",
    "import sys\n",
    "import ast\n",
    "from meta_pull import basic_insights"
   ]
  },
  {
   "cell_type": "code",
   "execution_count": 195,
   "id": "f9ece750",
   "metadata": {},
   "outputs": [],
   "source": [
    "df = basic_insights()"
   ]
  },
  {
   "cell_type": "code",
   "execution_count": 246,
   "id": "56f8e7a6",
   "metadata": {},
   "outputs": [
    {
     "name": "stdout",
     "output_type": "stream",
     "text": [
      "            media_id           media_timestamp  \\\n",
      "0  18037580198311360  2024-08-12T20:52:08+0000   \n",
      "\n",
      "                                            comments  \n",
      "0  {'data': [{'timestamp': '2024-09-02T22:23:29+0...  \n"
     ]
    }
   ],
   "source": [
    "df2 = pd.DataFrame(df)\n",
    "df2 = df2.rename(columns={\n",
    "    'timestamp': 'media_timestamp'\n",
    "    , 'id': 'media_id'\n",
    "})\n",
    "df3 = pd.json_normalize(df2['comments'])\n",
    "df4 = df2[['media_id', 'media_timestamp']].join(df3)\n",
    "# df2 = pd.DataFrame(df2['data'])\n",
    "print(df2)\n",
    "# df4.head(5)\n",
    "# df4.to_excel('sample.xlsx')"
   ]
  },
  {
   "cell_type": "code",
   "execution_count": 247,
   "id": "b72b73c7",
   "metadata": {},
   "outputs": [
    {
     "data": {
      "text/html": [
       "<div>\n",
       "<style scoped>\n",
       "    .dataframe tbody tr th:only-of-type {\n",
       "        vertical-align: middle;\n",
       "    }\n",
       "\n",
       "    .dataframe tbody tr th {\n",
       "        vertical-align: top;\n",
       "    }\n",
       "\n",
       "    .dataframe thead th {\n",
       "        text-align: right;\n",
       "    }\n",
       "</style>\n",
       "<table border=\"1\" class=\"dataframe\">\n",
       "  <thead>\n",
       "    <tr style=\"text-align: right;\">\n",
       "      <th></th>\n",
       "      <th>media_id</th>\n",
       "      <th>media_timestamp</th>\n",
       "      <th>comment_timestamp</th>\n",
       "      <th>comment_text</th>\n",
       "      <th>comment_id</th>\n",
       "    </tr>\n",
       "  </thead>\n",
       "  <tbody>\n",
       "    <tr>\n",
       "      <th>0</th>\n",
       "      <td>18037580198311360</td>\n",
       "      <td>2024-08-12T20:52:08+0000</td>\n",
       "      <td>2024-09-02T22:23:29+0000</td>\n",
       "      <td>Ade is so greattttt</td>\n",
       "      <td>17961306695798980</td>\n",
       "    </tr>\n",
       "    <tr>\n",
       "      <th>1</th>\n",
       "      <td>18037580198311360</td>\n",
       "      <td>2024-08-12T20:52:08+0000</td>\n",
       "      <td>2024-09-02T22:22:39+0000</td>\n",
       "      <td>this is not hate speech</td>\n",
       "      <td>17921669645959576</td>\n",
       "    </tr>\n",
       "    <tr>\n",
       "      <th>2</th>\n",
       "      <td>18037580198311360</td>\n",
       "      <td>2024-08-12T20:52:08+0000</td>\n",
       "      <td>2024-08-27T20:41:30+0000</td>\n",
       "      <td>Second troll</td>\n",
       "      <td>18019382825524242</td>\n",
       "    </tr>\n",
       "    <tr>\n",
       "      <th>3</th>\n",
       "      <td>18037580198311360</td>\n",
       "      <td>2024-08-12T20:52:08+0000</td>\n",
       "      <td>2024-08-27T20:40:53+0000</td>\n",
       "      <td>first troll</td>\n",
       "      <td>18060789808630326</td>\n",
       "    </tr>\n",
       "  </tbody>\n",
       "</table>\n",
       "</div>"
      ],
      "text/plain": [
       "            media_id           media_timestamp         comment_timestamp  \\\n",
       "0  18037580198311360  2024-08-12T20:52:08+0000  2024-09-02T22:23:29+0000   \n",
       "1  18037580198311360  2024-08-12T20:52:08+0000  2024-09-02T22:22:39+0000   \n",
       "2  18037580198311360  2024-08-12T20:52:08+0000  2024-08-27T20:41:30+0000   \n",
       "3  18037580198311360  2024-08-12T20:52:08+0000  2024-08-27T20:40:53+0000   \n",
       "\n",
       "              comment_text         comment_id  \n",
       "0      Ade is so greattttt  17961306695798980  \n",
       "1  this is not hate speech  17921669645959576  \n",
       "2             Second troll  18019382825524242  \n",
       "3              first troll  18060789808630326  "
      ]
     },
     "execution_count": 247,
     "metadata": {},
     "output_type": "execute_result"
    }
   ],
   "source": [
    "# Explode the 'data' list so that each entry in the 'data' list becomes a separate row\n",
    "df4 = df4.explode('data').reset_index(drop=True)\n",
    "\n",
    "# Further normalize the 'data' column to separate 'timestamp' and 'text' fields\n",
    "df_normalized = pd.concat([df4[['media_id', 'media_timestamp',]], pd.json_normalize(df4['data'])], axis=1)\n",
    "\n",
    "# Rename the columns for clarity and avoid confusion with the original 'timestamp' and 'id'\n",
    "df_normalized = df_normalized.rename(columns={\n",
    "                                'timestamp': 'comment_timestamp'\n",
    "                                ,'text': 'comment_text'\n",
    "                                ,'id': 'comment_id'\n",
    "                                    })\n",
    "\n",
    "# Display the first few rows of the updated dataframe\n",
    "df_normalized.head()"
   ]
  },
  {
   "cell_type": "code",
   "execution_count": null,
   "id": "2ef617fb",
   "metadata": {},
   "outputs": [],
   "source": []
  }
 ],
 "metadata": {
  "kernelspec": {
   "display_name": "Python 3 (ipykernel)",
   "language": "python",
   "name": "python3"
  },
  "language_info": {
   "codemirror_mode": {
    "name": "ipython",
    "version": 3
   },
   "file_extension": ".py",
   "mimetype": "text/x-python",
   "name": "python",
   "nbconvert_exporter": "python",
   "pygments_lexer": "ipython3",
   "version": "3.9.18"
  }
 },
 "nbformat": 4,
 "nbformat_minor": 5
}
